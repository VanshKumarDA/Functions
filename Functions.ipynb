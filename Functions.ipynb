{
  "nbformat": 4,
  "nbformat_minor": 0,
  "metadata": {
    "colab": {
      "provenance": []
    },
    "kernelspec": {
      "name": "python3",
      "display_name": "Python 3"
    },
    "language_info": {
      "name": "python"
    }
  },
  "cells": [
    {
      "cell_type": "markdown",
      "source": [
        "##Theory"
      ],
      "metadata": {
        "id": "smB-DSY2gLSh"
      }
    },
    {
      "cell_type": "markdown",
      "source": [
        "Q.1 What is the difference between a function and a method in Python?\n",
        "\n",
        "->> A function is a block of code that is designed to perform a specific task. It is defined using the def keyword and can be called independently. Ex:\n",
        "def greet(\"name\"):\n",
        "\n",
        "return f\"Hello, {name}, when you will write greet(\"Vansh\") then it will be executed as 'Hello Vansh'. Whereas, A method is a function that is associated with an object or a class. It is defined within a class and operates on instances of that class (objects). Ex: class Greeter:\n",
        "\n",
        "    def greet(self, name):\n",
        "\n",
        "        return f\"Hello, {name}!\"\n",
        "\n",
        "greeter = Greeter()\n",
        "greeter.greet(\"Alice\")  # This is calling a method."
      ],
      "metadata": {
        "id": "HDP5RlqvgNm9"
      }
    },
    {
      "cell_type": "markdown",
      "source": [
        "Q.2 Explain the concept of function arguments and parameters in Python.\n",
        "\n",
        "->> Arguments are the actual values that are passed to the function when it is called. These are the data that correspond to the function's parameters. Whereas, Parameters are the variables listed in the function definition. They act as placeholders for the values that will be passed to the function when it is called.\n",
        "def greet(name, age):  # 'name' and 'age' are parameters\n",
        "    return f\"Hello {name}, you are {age} years old.\"\n",
        "greet(\"Vansh\", 26) # 'Vansh' and 26 are arguments."
      ],
      "metadata": {
        "id": "YJFvjczdgN8o"
      }
    },
    {
      "cell_type": "markdown",
      "source": [
        "Q.3 What are the different ways to define and call a function in Python?\n",
        "\n",
        "->> Functions can be defined and called in several ways, offering flexibility depending on the use case. **Basic Function Definition and Call**-\n",
        "This is the most straightforward way to define and call a function. You define a function using the def keyword, followed by the function name and parameters. Ex: def greet(name):\n",
        "\n",
        "    return f\"Hello, {name}!\"\n",
        "\n",
        "####Calling the function\n",
        "result = greet(\"Vansh\")\n",
        "print(result)  # Output: Hello, Vansh!\n",
        "**Function with Multiple Parameters**-Functions can accept multiple parameters. You simply list them inside the parentheses in the function definition.Ex: def add(x, y):\n",
        "    return x + y\n",
        "\n",
        "####Calling the function\n",
        "result = add(3, 5)\n",
        "print(result)  # Output: 8\n"
      ],
      "metadata": {
        "id": "NxtRZ9EbgOG0"
      }
    },
    {
      "cell_type": "markdown",
      "source": [
        "Q.4 What is the purpose of the `return` statement in a Python function?\n",
        "\n",
        "->> The primary purpose of the return statement is to send a result or value from the function back to the caller. When a function is called, it may perform some computation or task and then use the return statement to send the result back. Ex: def add(x, y):\n",
        "    result = x + y\n",
        "    return result,   Returns the sum to the caller\n",
        "\n",
        "sum_value = add(3, 5)\n",
        "print(sum_value), Output: 8\n",
        "In this example, the return result statement sends the calculated sum back to where the function was called."
      ],
      "metadata": {
        "id": "i6wsmxkagOQL"
      }
    },
    {
      "cell_type": "markdown",
      "source": [
        "Q.5 What are iterators in Python and how do they differ from iterables?\n",
        "\n",
        "->> An object that can be iterated over (e.g., lists, tuples) and provides an iterator via the __iter__() method, this process is called iterable. An object that keeps track of the current position in the iterable and returns the next item using the __next__() method, this is iterator. An iterable doesn't automatically know how to keep track of the state during iteration, which is why we need an iterator to handle that part."
      ],
      "metadata": {
        "id": "cZP_q0yogOaC"
      }
    },
    {
      "cell_type": "markdown",
      "source": [
        "Q.6 Explain the concept of generators in Python and how they are defined.\n",
        "\n",
        "->> In Python, generators are a type of iterable that allow you to iterate over a sequence of values, but unlike lists or other data structures, they generate values and do not store them in memory. Ex: gen = (x * x for x in range(1, 6)), for num in gen:\n",
        "    \n",
        "    print(num)\n",
        "1\n",
        "\n",
        "4\n",
        "\n",
        "9\n",
        "\n",
        "16\n",
        "\n",
        "25\n"
      ],
      "metadata": {
        "id": "yjw2TGpMgOkL"
      }
    },
    {
      "cell_type": "markdown",
      "source": [
        "Q.7 What are the advantages of using generators over regular functions?\n",
        "\n",
        "->> Using generators in Python offers several advantages over regular functions, especially when dealing with large data sets. Generators don't store the entire sequence in memory. Values are computed only when needed. Reduced overhead and faster execution for large datasets or complex computations. Generators remember their state between iterations. Generators simplify code, especially for iteration and stateful operations. Generators allow iteration over infinite sequences without consuming excessive memory."
      ],
      "metadata": {
        "id": "cYwB-TlsqHmA"
      }
    },
    {
      "cell_type": "markdown",
      "source": [
        "Q.8 What is a lambda function in Python and when is it typically used?\n",
        "\n",
        "->> A lambda function in Python is a small, anonymous function that is defined using the lambda keyword. Unlike regular functions defined with the def keyword, lambda functions are typically used for short-term operations where a full function definition is unnecessary. They are useful for situations where you need a simple function for a short period of time. An example of lambda function: add = lambda x, y: x + y print(add(3, 5)) - it will be executed 8."
      ],
      "metadata": {
        "id": "M3xAqcJRqH3s"
      }
    },
    {
      "cell_type": "markdown",
      "source": [
        "Q.9 Explain the purpose and usage of the `map()` function in Python.\n",
        "\n",
        "->> The map() function in Python is used to apply a given function to all items in an iterable (like a list, tuple, or any other iterable), and it returns a map object, which is an iterator that yields the results of applying the function to each item in the iterable. We can use map function in single iterable, lambda function, multiple iterable and with strings."
      ],
      "metadata": {
        "id": "qk1M68M9qIEW"
      }
    },
    {
      "cell_type": "markdown",
      "source": [
        "Q.10 What is the difference between `map()`, `reduce()`, and `filter()` functions in Python?\n",
        "\n",
        "->> In Python, map(), reduce(), and filter() are all higher-order functions that allow you to apply a function to elements of an iterable (or multiple iterables) in different ways. map()-Applies a given function to each item of an iterable (or multiple iterables) and returns a map object (an iterator) that yields the results, syntax is map(function, iterable, ...). reduce()-Applies a given function cumulatively to the items of an iterable, so as to reduce it to a single value. The function takes two arguments: the result of the previous operation and the current item, syntax is from functools import reduce\n",
        "reduce(function, iterable, [initial]). filter()- Filters elements of an iterable based on a condition provided by a function. The function should return a boolean value: True to keep the element and False to exclude it, syntax is filter(function, iterable)."
      ],
      "metadata": {
        "id": "4CicFg2MqIW0"
      }
    },
    {
      "cell_type": "markdown",
      "source": [
        "##Practical"
      ],
      "metadata": {
        "id": "dStXOSTUtT5r"
      }
    },
    {
      "cell_type": "code",
      "source": [
        "#Write a Python function that takes a list of numbers as input and returns the sum of all even numbers in the list.\n",
        "def even_numbers(numbers):\n",
        "    total = 0\n",
        "    for num in numbers:\n",
        "        if num % 2 == 0:\n",
        "            total += num\n",
        "    return total\n",
        "even_numbers([1,2,3,4,5,6,7,8,9,10,11,12,13,14,15,16]) #it will give output as 72\n"
      ],
      "metadata": {
        "colab": {
          "base_uri": "https://localhost:8080/"
        },
        "id": "VXmqjuO-tWFN",
        "outputId": "e430ed65-a260-4d5c-8055-287f0cf8ab47"
      },
      "execution_count": 4,
      "outputs": [
        {
          "output_type": "execute_result",
          "data": {
            "text/plain": [
              "72"
            ]
          },
          "metadata": {},
          "execution_count": 4
        }
      ]
    },
    {
      "cell_type": "code",
      "source": [
        "#Create a Python function that accepts a string and returns the reverse of that string.\n",
        "def reverse_string(string):\n",
        "    return string[::-1]\n",
        "reverse_string(\"Data Analytics Course\")"
      ],
      "metadata": {
        "colab": {
          "base_uri": "https://localhost:8080/",
          "height": 36
        },
        "id": "1eejl6l3ugE7",
        "outputId": "f9113aba-9ab5-4120-ac11-59b2fabe73dd"
      },
      "execution_count": 6,
      "outputs": [
        {
          "output_type": "execute_result",
          "data": {
            "text/plain": [
              "'esruoC scitylanA ataD'"
            ],
            "application/vnd.google.colaboratory.intrinsic+json": {
              "type": "string"
            }
          },
          "metadata": {},
          "execution_count": 6
        }
      ]
    },
    {
      "cell_type": "code",
      "source": [
        "# Implement a Python function that takes a list of integers and returns a new list containing the squares of each number.\n",
        "def square_numbers(numbers):\n",
        "    squares = [num ** 2 for num in numbers]\n",
        "    return squares\n",
        "square_numbers([1,2,3,4,5,6,7,8,9,10])"
      ],
      "metadata": {
        "colab": {
          "base_uri": "https://localhost:8080/"
        },
        "id": "FCf4pkR8ux3Z",
        "outputId": "69f44cd2-0685-41fd-fa1f-c24384811976"
      },
      "execution_count": 7,
      "outputs": [
        {
          "output_type": "execute_result",
          "data": {
            "text/plain": [
              "[1, 4, 9, 16, 25, 36, 49, 64, 81, 100]"
            ]
          },
          "metadata": {},
          "execution_count": 7
        }
      ]
    },
    {
      "cell_type": "code",
      "source": [
        "#Write a Python function that checks if a given number is prime or not from 1 to 200.\n",
        "def Its_prime(number):\n",
        "    if number <= 1:\n",
        "        return False\n",
        "    if number <= 3:\n",
        "        return True\n",
        "    if number % 2 == 0 or number % 3 == 0:\n",
        "        return False\n",
        "Its_prime(198)"
      ],
      "metadata": {
        "colab": {
          "base_uri": "https://localhost:8080/"
        },
        "id": "Zjeai5lTvLnn",
        "outputId": "6069aaa8-5826-4c93-df1e-5f7abaeb9741"
      },
      "execution_count": 13,
      "outputs": [
        {
          "output_type": "execute_result",
          "data": {
            "text/plain": [
              "False"
            ]
          },
          "metadata": {},
          "execution_count": 13
        }
      ]
    },
    {
      "cell_type": "code",
      "source": [
        "Its_prime(3)"
      ],
      "metadata": {
        "colab": {
          "base_uri": "https://localhost:8080/"
        },
        "id": "XQ5c_vtvwQvg",
        "outputId": "cfb4412d-e80c-487c-ef3e-32b24f246ead"
      },
      "execution_count": 15,
      "outputs": [
        {
          "output_type": "execute_result",
          "data": {
            "text/plain": [
              "True"
            ]
          },
          "metadata": {},
          "execution_count": 15
        }
      ]
    },
    {
      "cell_type": "code",
      "source": [
        "#Create an iterator class in Python that generates the Fibonacci sequence up to a specified number of terms.\n",
        "fib = lambda n: n if n<=1 else fib(n-1) + fib(n-2)\n",
        "[fib(i) for i in range(10)]"
      ],
      "metadata": {
        "colab": {
          "base_uri": "https://localhost:8080/"
        },
        "id": "VBuqw-iBwjwF",
        "outputId": "6469120b-d3fa-4b0b-bb72-ba63618ea60c"
      },
      "execution_count": 18,
      "outputs": [
        {
          "output_type": "execute_result",
          "data": {
            "text/plain": [
              "[0, 1, 1, 2, 3, 5, 8, 13, 21, 34]"
            ]
          },
          "metadata": {},
          "execution_count": 18
        }
      ]
    },
    {
      "cell_type": "code",
      "source": [
        "#Write a generator function in Python that yields the powers of 2 up to a given exponent.\n",
        "def power_of_two(exponent):\n",
        "    for i in range(exponent + 1):\n",
        "        yield 2 ** i\n",
        "power_of_two(10)"
      ],
      "metadata": {
        "colab": {
          "base_uri": "https://localhost:8080/"
        },
        "id": "pcuNF8jGyppR",
        "outputId": "2492b3e4-16ed-414c-95da-8f039a18e3ce"
      },
      "execution_count": 19,
      "outputs": [
        {
          "output_type": "execute_result",
          "data": {
            "text/plain": [
              "<generator object power_of_two at 0x781d88448580>"
            ]
          },
          "metadata": {},
          "execution_count": 19
        }
      ]
    },
    {
      "cell_type": "code",
      "source": [
        "#Use a lambda function in Python to sort a list of tuples based on the second element of each tuple.\n",
        "tuples_list = [(2, 5), (3, 1), (4, 3), (2, 9)]\n",
        "sorted_list = sorted(tuples_list, key=lambda x: x[1])\n",
        "print(sorted_list)"
      ],
      "metadata": {
        "colab": {
          "base_uri": "https://localhost:8080/"
        },
        "id": "3Y92KauQ2RSF",
        "outputId": "761011a8-8218-400b-e259-d266f1fd2b7e"
      },
      "execution_count": 23,
      "outputs": [
        {
          "output_type": "stream",
          "name": "stdout",
          "text": [
            "[(3, 1), (4, 3), (2, 5), (2, 9)]\n"
          ]
        }
      ]
    },
    {
      "cell_type": "code",
      "source": [
        "#Write a Python program that uses `map()` to convert a list of temperatures from Celsius to Fahrenheit.\n",
        "celsius_temperatures = [0, 10, 20, 30, 40]\n",
        "fahrenheit_temperatures = list(map(lambda c: (c * 9/5) + 32, celsius_temperatures))\n",
        "print(fahrenheit_temperatures)"
      ],
      "metadata": {
        "colab": {
          "base_uri": "https://localhost:8080/"
        },
        "id": "snj83pcY26aZ",
        "outputId": "6bf68590-7069-41a3-d353-f6d8e3b181c3"
      },
      "execution_count": 25,
      "outputs": [
        {
          "output_type": "stream",
          "name": "stdout",
          "text": [
            "[32.0, 50.0, 68.0, 86.0, 104.0]\n"
          ]
        }
      ]
    },
    {
      "cell_type": "code",
      "source": [
        "#Create a Python program that uses `filter()` to remove all the vowels from a given string.\n",
        "def remove_vowels(string):\n",
        "    vowels = 'aeiouAEIOU'\n",
        "    result = ''.join(filter(lambda x: x not in vowels, input_string))\n",
        "    return result\n",
        "input_string = (\"Data Analytics Course\")\n",
        "result_string = remove_vowels(input_string)\n",
        "print(result_string)"
      ],
      "metadata": {
        "colab": {
          "base_uri": "https://localhost:8080/"
        },
        "id": "R-kYWEIp3ELg",
        "outputId": "103c73e0-bb0a-4e35-edd7-314d9680d0ab"
      },
      "execution_count": 31,
      "outputs": [
        {
          "output_type": "stream",
          "name": "stdout",
          "text": [
            "Dt nlytcs Crs\n"
          ]
        }
      ]
    }
  ]
}